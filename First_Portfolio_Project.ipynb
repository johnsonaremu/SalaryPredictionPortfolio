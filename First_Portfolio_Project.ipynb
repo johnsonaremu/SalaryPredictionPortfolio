{
 "cells": [
  {
   "cell_type": "markdown",
   "metadata": {},
   "source": [
    "# Salary Predictions Based on Job Descriptions"
   ]
  },
  {
   "cell_type": "markdown",
   "metadata": {},
   "source": [
    "# Part 1 - DEFINE"
   ]
  },
  {
   "cell_type": "markdown",
   "metadata": {},
   "source": [
    "### ---- 1 Define the problem ----"
   ]
  },
  {
   "cell_type": "markdown",
   "metadata": {},
   "source": [
    "Write the problem in your own words here"
   ]
  },
  {
   "cell_type": "code",
   "execution_count": 4,
   "metadata": {},
   "outputs": [
    {
     "name": "stdout",
     "output_type": "stream",
     "text": [
      "Defaulting to user installation because normal site-packages is not writeable\n",
      "Requirement already satisfied: pandas in /home/jaremu/.local/lib/python3.6/site-packages (1.0.1)\n",
      "Requirement already satisfied: pytz>=2017.2 in /home/jaremu/.local/lib/python3.6/site-packages (from pandas) (2019.3)\n",
      "Requirement already satisfied: python-dateutil>=2.6.1 in /home/jaremu/.local/lib/python3.6/site-packages (from pandas) (2.8.1)\n",
      "Requirement already satisfied: numpy>=1.13.3 in /home/jaremu/.local/lib/python3.6/site-packages (from pandas) (1.18.1)\n",
      "Requirement already satisfied: six>=1.5 in /usr/lib/python3/dist-packages (from python-dateutil>=2.6.1->pandas) (1.11.0)\n"
     ]
    }
   ],
   "source": [
    "#!/usr/bin/python3\n",
    "\n",
    "#your info here\n",
    "__author__ = 'Johnson Aremu'\n",
    "__email__ = \"jaremu@gmail.com / johnsonaremu@gmail.com\"\n",
    "\n",
    "#This python project reads Salary data and makes predictions on Salary records using models learnt \n",
    "# in  Data Science predictive modeling linear regression.\n",
    "\n",
    "#import your libraries\n",
    "!pip install pandas\n",
    "import pandas as pd\n",
    "import numpy as np\n",
    "import matplotlib.pyplot as plt\n",
    "from sklearn.ensemble import RandomForestRegressor, GradientBoostingRegressor\n",
    "from sklearn.model_selection import cross_val_score\n",
    "from sklearn.utils import shuffle\n",
    "from sklearn.metrics import mean_squared_error\n",
    "from sklearn.linear_model import LinearRegression\n",
    "from sklearn.pipeline import make_pipeline\n",
    "from sklearn.decomposition import PCA\n",
    "from sklearn.preprocessing import StandardScaler\n"
   ]
  },
  {
   "cell_type": "markdown",
   "metadata": {},
   "source": [
    "## Part 2 - DISCOVER"
   ]
  },
  {
   "cell_type": "markdown",
   "metadata": {},
   "source": [
    "### ---- 2 Load the data ----"
   ]
  },
  {
   "cell_type": "code",
   "execution_count": 6,
   "metadata": {},
   "outputs": [],
   "source": [
    "#load the data into a Pandas dataframe\n",
    "\n",
    "def load_file(file):\n",
    "    '''loads csv to pd dataframe'''\n",
    "    return pd.read_csv(file)\n",
    "\n",
    "def consolidate_data(df1, df2, key=None, left_index=False, right_index=False):\n",
    "    '''perform inner join to return only records that are present in both dataframes'''\n",
    "    return pd.merge(left=df1, right=df2, how='inner', on=key, left_index=left_index, right_index=right_index)"
   ]
  },
  {
   "cell_type": "markdown",
   "metadata": {},
   "source": [
    "### ---- 3 Clean the data ----"
   ]
  },
  {
   "cell_type": "code",
   "execution_count": 7,
   "metadata": {},
   "outputs": [],
   "source": [
    "#look for duplicate data, invalid data (e.g. salaries <=0), or corrupt data and remove it\n",
    "\n",
    "def clean_data(raw_df):\n",
    "    '''remove rows that contain salary <= 0 or duplicate job IDs'''\n",
    "    clean_df = raw_df.drop_duplicates(subset='jobId')\n",
    "    clean_df = clean_df[clean_df.salary>0]\n",
    "    return clean_df"
   ]
  },
  {
   "cell_type": "markdown",
   "metadata": {},
   "source": [
    "### ---- 4 Explore the data (EDA) ----"
   ]
  },
  {
   "cell_type": "code",
   "execution_count": 8,
   "metadata": {},
   "outputs": [],
   "source": [
    "#summarize each feature variable\n",
    "#look for correlation between each feature and the target\n",
    "#look for correlation between features\n",
    "\n",
    "def one_hot_encode_feature_df(df, cat_vars=None, num_vars=None):\n",
    "    '''performs one-hot encoding on all categorical variables and combines result with continous variables'''\n",
    "    cat_df = pd.get_dummies(df[cat_vars])\n",
    "    num_df = df[num_vars].apply(pd.to_numeric)\n",
    "    return pd.concat([cat_df, num_df], axis=1)#,ignore_index=False)\n",
    "\n",
    "#summarize the target variable\n",
    "\n",
    "def get_target_df(df, target):\n",
    "    '''returns target dataframe'''\n",
    "    return df[target]"
   ]
  },
  {
   "cell_type": "markdown",
   "metadata": {},
   "source": [
    "### ---- 5 Establish a baseline ----"
   ]
  },
  {
   "cell_type": "code",
   "execution_count": 9,
   "metadata": {},
   "outputs": [],
   "source": [
    "#select a reasonable metric (MSE in this case)\n",
    "#create an extremely simple model and measure its efficacy\n",
    "#e.g. use \"average salary\" for each industry as your model and then measure MSE\n",
    "#during 5-fold cross-validation\n",
    "def train_model(model, feature_df, target_df, num_procs, mean_mse, cv_std):\n",
    "    neg_mse = cross_val_score(model, feature_df, target_df, cv=2, n_jobs=num_procs, scoring='neg_mean_squared_error')\n",
    "    mean_mse[model] = -1.0*np.mean(neg_mse)\n",
    "    cv_std[model] = np.std(neg_mse)\n",
    "\n",
    "def print_summary(model, mean_mse, cv_std):\n",
    "    print('\\nModel:\\n', model)\n",
    "    print('Average MSE:\\n', mean_mse[model])\n",
    "    print('Standard deviation during CV:\\n', cv_std[model])"
   ]
  },
  {
   "cell_type": "markdown",
   "metadata": {},
   "source": [
    "### ---- 6 Hypothesize solution ----"
   ]
  },
  {
   "cell_type": "code",
   "execution_count": null,
   "metadata": {},
   "outputs": [],
   "source": [
    "#brainstorm 3 models that you think may improve results over the baseline model based\n",
    "#on your "
   ]
  },
  {
   "cell_type": "markdown",
   "metadata": {},
   "source": [
    "Brainstorm 3 models that you think may improve results over the baseline model based on your EDA and explain why they're reasonable solutions here.\n",
    "\n",
    "Also write down any new features that you think you should try adding to the model based on your EDA, e.g. interaction variables, summary statistics for each group, etc"
   ]
  },
  {
   "cell_type": "markdown",
   "metadata": {},
   "source": [
    "## Part 3 - DEVELOP"
   ]
  },
  {
   "cell_type": "markdown",
   "metadata": {},
   "source": [
    "You will cycle through creating features, tuning models, and training/validing models (steps 7-9) until you've reached your efficacy goal\n",
    "\n",
    "#### Your metric will be MSE and your goal is:\n",
    " - <360 for entry-level data science roles\n",
    " - <320 for senior data science roles"
   ]
  },
  {
   "cell_type": "markdown",
   "metadata": {},
   "source": [
    "### ---- 7 Engineer features  ----"
   ]
  },
  {
   "cell_type": "code",
   "execution_count": 10,
   "metadata": {},
   "outputs": [],
   "source": [
    "#make sure that data is ready for modeling\n",
    "#create any new features needed to potentially enhance model\n",
    "def save_results(model, mean_mse, predictions, feature_importances):\n",
    "    '''saves model, model summary, feature importances, and predictions'''\n",
    "    with open('model.txt', 'w') as file:\n",
    "        file.write(str(model))\n",
    "    feature_importances.to_csv('feature_importances.csv') \n",
    "    np.savetxt('predictions.csv', predictions, delimiter=',')\n"
   ]
  },
  {
   "cell_type": "markdown",
   "metadata": {},
   "source": [
    "### ---- 8 Create models ----"
   ]
  },
  {
   "cell_type": "code",
   "execution_count": 12,
   "metadata": {},
   "outputs": [
    {
     "name": "stdout",
     "output_type": "stream",
     "text": [
      "Loading data\n",
      "Encoding data\n",
      "Beginning cross validation\n",
      "\n",
      "Model:\n",
      " LinearRegression(copy_X=True, fit_intercept=True, n_jobs=None, normalize=False)\n",
      "Average MSE:\n",
      " 384.4618534449795\n",
      "Standard deviation during CV:\n",
      " 0.6240163209646141\n",
      "\n",
      "Model:\n",
      " Pipeline(memory=None,\n",
      "         steps=[('standardscaler',\n",
      "                 StandardScaler(copy=True, with_mean=True, with_std=True)),\n",
      "                ('pca',\n",
      "                 PCA(copy=True, iterated_power='auto', n_components=None,\n",
      "                     random_state=None, svd_solver='auto', tol=0.0,\n",
      "                     whiten=False)),\n",
      "                ('linearregression',\n",
      "                 LinearRegression(copy_X=True, fit_intercept=True, n_jobs=None,\n",
      "                                  normalize=False))],\n",
      "         verbose=False)\n",
      "Average MSE:\n",
      " 384.4564142954343\n",
      "Standard deviation during CV:\n",
      " 0.6114214044828827\n",
      "\n",
      "Model:\n",
      " RandomForestRegressor(bootstrap=True, ccp_alpha=0.0, criterion='mse',\n",
      "                      max_depth=25, max_features=30, max_leaf_nodes=None,\n",
      "                      max_samples=None, min_impurity_decrease=0.0,\n",
      "                      min_impurity_split=None, min_samples_leaf=1,\n",
      "                      min_samples_split=60, min_weight_fraction_leaf=0.0,\n",
      "                      n_estimators=60, n_jobs=2, oob_score=False,\n",
      "                      random_state=None, verbose=5, warm_start=False)\n",
      "Average MSE:\n",
      " 368.4588068907685\n",
      "Standard deviation during CV:\n",
      " 0.5594625795968682\n",
      "\n",
      "Model:\n",
      " GradientBoostingRegressor(alpha=0.9, ccp_alpha=0.0, criterion='friedman_mse',\n",
      "                          init=None, learning_rate=0.1, loss='ls', max_depth=5,\n",
      "                          max_features=None, max_leaf_nodes=None,\n",
      "                          min_impurity_decrease=0.0, min_impurity_split=None,\n",
      "                          min_samples_leaf=1, min_samples_split=2,\n",
      "                          min_weight_fraction_leaf=0.0, n_estimators=40,\n",
      "                          n_iter_no_change=None, presort='deprecated',\n",
      "                          random_state=None, subsample=1.0, tol=0.0001,\n",
      "                          validation_fraction=0.1, verbose=5, warm_start=False)\n",
      "Average MSE:\n",
      " 397.8714157644862\n",
      "Standard deviation during CV:\n",
      " 0.19763913802052002\n",
      "\n",
      "Predictions calculated using model with lowest MSE:\n",
      "RandomForestRegressor(bootstrap=True, ccp_alpha=0.0, criterion='mse',\n",
      "                      max_depth=25, max_features=30, max_leaf_nodes=None,\n",
      "                      max_samples=None, min_impurity_decrease=0.0,\n",
      "                      min_impurity_split=None, min_samples_leaf=1,\n",
      "                      min_samples_split=60, min_weight_fraction_leaf=0.0,\n",
      "                      n_estimators=60, n_jobs=2, oob_score=False,\n",
      "                      random_state=None, verbose=5, warm_start=False)\n"
     ]
    },
    {
     "name": "stderr",
     "output_type": "stream",
     "text": [
      "[Parallel(n_jobs=2)]: Using backend ThreadingBackend with 2 concurrent workers.\n"
     ]
    },
    {
     "name": "stdout",
     "output_type": "stream",
     "text": [
      "building tree 1 of 60building tree 2 of 60\n",
      "\n",
      "building tree 3 of 60\n",
      "building tree 4 of 60\n",
      "building tree 5 of 60\n",
      "building tree 6 of 60\n",
      "building tree 7 of 60\n",
      "building tree 8 of 60\n",
      "building tree 9 of 60\n",
      "building tree 10 of 60\n",
      "building tree 11 of 60\n",
      "building tree 12 of 60\n",
      "building tree 13 of 60\n",
      "building tree 14 of 60\n",
      "building tree 15 of 60\n",
      "building tree 16 of 60\n"
     ]
    },
    {
     "name": "stderr",
     "output_type": "stream",
     "text": [
      "[Parallel(n_jobs=2)]: Done  14 tasks      | elapsed:  1.2min\n"
     ]
    },
    {
     "name": "stdout",
     "output_type": "stream",
     "text": [
      "building tree 17 of 60\n",
      "building tree 18 of 60\n",
      "building tree 19 of 60\n",
      "building tree 20 of 60\n",
      "building tree 21 of 60\n",
      "building tree 22 of 60\n",
      "building tree 23 of 60\n",
      "building tree 24 of 60\n",
      "building tree 25 of 60\n",
      "building tree 26 of 60\n",
      "building tree 27 of 60\n",
      "building tree 28 of 60\n",
      "building tree 29 of 60\n",
      "building tree 30 of 60\n",
      "building tree 31 of 60\n",
      "building tree 32 of 60\n",
      "building tree 33 of 60\n",
      "building tree 34 of 60\n",
      "building tree 35 of 60\n",
      "building tree 36 of 60\n",
      "building tree 37 of 60\n",
      "building tree 38 of 60\n",
      "building tree 39 of 60\n",
      "building tree 40 of 60\n",
      "building tree 41 of 60\n",
      "building tree 42 of 60\n",
      "building tree 43 of 60\n",
      "building tree 44 of 60\n",
      "building tree 45 of 60\n",
      "building tree 46 of 60\n",
      "building tree 47 of 60\n",
      "building tree 48 of 60\n",
      "building tree 49 of 60\n",
      "building tree 50 of 60\n",
      "building tree 51 of 60\n",
      "building tree 52 of 60\n",
      "building tree 53 of 60\n",
      "building tree 54 of 60\n",
      "building tree 55 of 60\n",
      "building tree 56 of 60\n",
      "building tree 57 of 60\n",
      "building tree 58 of 60\n",
      "building tree 59 of 60\n",
      "building tree 60 of 60\n"
     ]
    },
    {
     "name": "stderr",
     "output_type": "stream",
     "text": [
      "[Parallel(n_jobs=2)]: Done  60 out of  60 | elapsed:  5.1min finished\n",
      "[Parallel(n_jobs=2)]: Using backend ThreadingBackend with 2 concurrent workers.\n",
      "[Parallel(n_jobs=2)]: Done  14 tasks      | elapsed:    3.4s\n",
      "[Parallel(n_jobs=2)]: Done  60 out of  60 | elapsed:   14.8s finished\n"
     ]
    }
   ],
   "source": [
    "#create and tune the models that you brainstormed during part 2\n",
    "if __name__ == '__main__':\n",
    "    #define inputs\n",
    "    train_feature_file = 'data/train_features.csv'\n",
    "    train_target_file = 'data/train_salaries.csv'\n",
    "    test_feature_file = 'data/test_features.csv'\n",
    "\n",
    "    #define variables\n",
    "    categorical_vars = ['companyId', 'jobType', 'degree', 'major', 'industry']\n",
    "    numeric_vars = ['yearsExperience', 'milesFromMetropolis']\n",
    "    target_var = 'salary'\n",
    "\n",
    "    #load data\n",
    "    print(\"Loading data\")\n",
    "    feature_df = load_file(train_feature_file)\n",
    "    target_df = load_file(train_target_file)\n",
    "    test_df = load_file(test_feature_file)\n",
    "\n",
    "    #consolidate training data\n",
    "    raw_train_df = consolidate_data(feature_df, target_df, key='jobId')\n",
    "\n",
    "    #clean, shuffle, and reindex training data -- shuffling may improve cross-validation accuracy\n",
    "    clean_train_df = shuffle(clean_data(raw_train_df)).reset_index()\n",
    "\n",
    "    #encode categorical data and get final feature dfs\n",
    "    print(\"Encoding data\")\n",
    "    feature_df = one_hot_encode_feature_df(clean_train_df, cat_vars=categorical_vars, num_vars=numeric_vars)\n",
    "    test_df = one_hot_encode_feature_df(test_df, cat_vars=categorical_vars, num_vars=numeric_vars)\n",
    "\n",
    "    #get target df\n",
    "    target_df = get_target_df(clean_train_df, target_var)\n",
    "\n",
    "    #initialize model list and dicts\n",
    "    models = []\n",
    "    mean_mse = {}\n",
    "    cv_std = {}\n",
    "    res = {}\n",
    "\n",
    "    #define number of processes to run in parallel\n",
    "    num_procs = 2\n",
    "\n",
    "    #shared model paramaters\n",
    "    verbose_lvl = 5\n",
    "\n",
    "    #create models -- hyperparameter tuning already done by hand for each model\n",
    "    lr = LinearRegression()\n",
    "    lr_std_pca = make_pipeline(StandardScaler(), PCA(), LinearRegression())\n",
    "    rf = RandomForestRegressor(n_estimators=60, n_jobs=num_procs, max_depth=25, min_samples_split=60, \\\n",
    "                               max_features=30, verbose=verbose_lvl)\n",
    "    gbm = GradientBoostingRegressor(n_estimators=40, max_depth=5, loss='ls', verbose=verbose_lvl)\n",
    "\n",
    "    models.extend([lr, lr_std_pca, rf, gbm])\n",
    "\n",
    "    #parallel cross-validate models, using MSE as evaluation metric, and print summaries\n",
    "    print(\"Beginning cross validation\")\n",
    "    for model in models:\n",
    "        train_model(model, feature_df, target_df, num_procs, mean_mse, cv_std)\n",
    "        print_summary(model, mean_mse, cv_std)\n",
    "\n",
    "    #choose model with lowest mse\n",
    "    model = min(mean_mse, key=mean_mse.get)\n",
    "    print('\\nPredictions calculated using model with lowest MSE:')\n",
    "    print(model)\n",
    "\n",
    "    #train model on entire dataset\n",
    "    model.fit(feature_df, target_df)\n",
    "\n",
    "    #create predictions based on test data\n",
    "    predictions = model.predict(test_df)\n",
    "\n",
    "    #store feature importances\n",
    "    if hasattr(model, 'feature_importances_'):\n",
    "        importances = model.feature_importances_\n",
    "    else:\n",
    "        #linear models don't have feature_importances_\n",
    "        importances = [0]*len(feature_df.columns)\n",
    "\n",
    "    feature_importances = pd.DataFrame({'feature':feature_df.columns, 'importance':importances})\n",
    "    feature_importances.sort_values(by='importance', ascending=False, inplace=True)\n",
    "    \n",
    "    #set index to 'feature'\n",
    "    feature_importances.set_index('feature', inplace=True, drop=True)\n",
    "    \n",
    "    #create plot\n",
    "    #feature_importances[0:25].plot.bar(figsize=(20,10))\n",
    "    #plt.show()\n",
    "\n",
    "    #save results\n",
    "    save_results(model, mean_mse[model], predictions, feature_importances)"
   ]
  },
  {
   "cell_type": "markdown",
   "metadata": {},
   "source": [
    "### ---- 9 Test models ----"
   ]
  },
  {
   "cell_type": "code",
   "execution_count": 13,
   "metadata": {},
   "outputs": [
    {
     "data": {
      "image/png": "[encoded data removed]",
      "text/plain": [
       "<Figure size 1440x720 with 1 Axes>"
      ]
     },
     "metadata": {
      "needs_background": "light"
     },
     "output_type": "display_data"
    }
   ],
   "source": [
    "#do 5-fold cross validation on models and measure MSE\n",
    "feature_importances[0:25].plot.bar(figsize=(20,10))\n",
    "plt.show()"
   ]
  },
  {
   "cell_type": "markdown",
   "metadata": {},
   "source": [
    "### ---- 10 Select best model  ----"
   ]
  },
  {
   "cell_type": "code",
   "execution_count": 14,
   "metadata": {},
   "outputs": [
    {
     "name": "stdout",
     "output_type": "stream",
     "text": [
      "RandomForestRegressor(bootstrap=True, ccp_alpha=0.0, criterion='mse',\r\n",
      "                      max_depth=25, max_features=30, max_leaf_nodes=None,\r\n",
      "                      max_samples=None, min_impurity_decrease=0.0,\r\n",
      "                      min_impurity_split=None, min_samples_leaf=1,\r\n",
      "                      min_samples_split=60, min_weight_fraction_leaf=0.0,\r\n",
      "                      n_estimators=60, n_jobs=2, oob_score=False,\r\n",
      "                      random_state=None, verbose=5, warm_start=False)"
     ]
    }
   ],
   "source": [
    "#select the model with the lowest error as your \"prodcuction\" model\n",
    "!cat model.txt"
   ]
  },
  {
   "cell_type": "markdown",
   "metadata": {},
   "source": [
    "## Part 4 - DEPLOY"
   ]
  },
  {
   "cell_type": "markdown",
   "metadata": {},
   "source": [
    "### ---- 11 Automate pipeline ----"
   ]
  },
  {
   "cell_type": "code",
   "execution_count": null,
   "metadata": {},
   "outputs": [],
   "source": [
    "#write script that trains model on entire training set, saves model to disk,\n",
    "#and scores the \"test\" dataset"
   ]
  },
  {
   "cell_type": "markdown",
   "metadata": {},
   "source": [
    "### ---- 12 Deploy solution ----"
   ]
  },
  {
   "cell_type": "code",
   "execution_count": 15,
   "metadata": {},
   "outputs": [
    {
     "name": "stdout",
     "output_type": "stream",
     "text": [
      "feature,importance\n",
      "yearsExperience,0.1818992010125919\n",
      "jobType_JANITOR,0.1781265218544207\n",
      "milesFromMetropolis,0.12655169040338834\n",
      "major_NONE,0.09102302957892408\n",
      "jobType_JUNIOR,0.06562493274868736\n",
      "jobType_CEO,0.054625839626755296\n",
      "jobType_SENIOR,0.0335608572290807\n",
      "industry_EDUCATION,0.02942714729840246\n",
      "industry_OIL,0.022370702260150803\n",
      "1.135278968249869251e+02\n",
      "9.507333200620291791e+01\n",
      "1.772848666112496971e+02\n",
      "1.050676959803903543e+02\n",
      "1.120168474612235769e+02\n",
      "1.526155478976748157e+02\n",
      "9.718759335153959000e+01\n",
      "1.209081901787831725e+02\n",
      "1.078495000787040965e+02\n",
      "9.931195782551526463e+01\n"
     ]
    }
   ],
   "source": [
    "#save your prediction to a csv file or optionally save them as a table in a SQL database\n",
    "#additionally, you want to save a visualization and summary of your prediction and feature importances\n",
    "#these visualizations and summaries will be extremely useful to business stakeholders\n",
    "!head feature_importances.csv\n",
    "!head predictions.csv"
   ]
  },
  {
   "cell_type": "markdown",
   "metadata": {},
   "source": [
    "### ---- 13 Measure efficacy ----"
   ]
  },
  {
   "cell_type": "markdown",
   "metadata": {},
   "source": [
    "We'll skip this step since we don't have the outcomes for the test data"
   ]
  },
  {
   "cell_type": "code",
   "execution_count": null,
   "metadata": {},
   "outputs": [],
   "source": []
  },
  {
   "cell_type": "code",
   "execution_count": null,
   "metadata": {},
   "outputs": [],
   "source": []
  },
  {
   "cell_type": "code",
   "execution_count": null,
   "metadata": {},
   "outputs": [],
   "source": []
  },
  {
   "cell_type": "code",
   "execution_count": null,
   "metadata": {},
   "outputs": [],
   "source": []
  }
 ],
 "metadata": {
  "kernelspec": {
   "display_name": "Python 3",
   "language": "python",
   "name": "python3"
  },
  "language_info": {
   "codemirror_mode": {
    "name": "ipython",
    "version": 3
   },
   "file_extension": ".py",
   "mimetype": "text/x-python",
   "name": "python",
   "nbconvert_exporter": "python",
   "pygments_lexer": "ipython3",
   "version": "3.6.9"
  }
 },
 "nbformat": 4,
 "nbformat_minor": 2
}
